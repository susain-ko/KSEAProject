{
 "cells": [
  {
   "cell_type": "markdown",
   "metadata": {},
   "source": [
    "<h3 style=\"text-align: center;\">EWA-EWC Johansen cointegration example</h3>\n",
    "\n",
    "The johansen package is used to find a cointegrating relation between the ETFs EWA and EWC. "
   ]
  },
  {
   "cell_type": "code",
   "execution_count": 1,
   "metadata": {
    "collapsed": true
   },
   "outputs": [],
   "source": [
    "%matplotlib inline\n",
    "import matplotlib.pyplot as plt\n",
    "import pickle\n",
    "from johansen import Johansen\n",
    "import numpy as np"
   ]
  },
  {
   "cell_type": "code",
   "execution_count": 2,
   "metadata": {},
   "outputs": [
    {
     "ename": "ModuleNotFoundError",
     "evalue": "No module named 'pandas.indexes'",
     "output_type": "error",
     "traceback": [
      "\u001b[0;31m---------------------------------------------------------------------------\u001b[0m",
      "\u001b[0;31mModuleNotFoundError\u001b[0m                       Traceback (most recent call last)",
      "\u001b[0;32m<ipython-input-2-1b8dcef7e893>\u001b[0m in \u001b[0;36m<module>\u001b[0;34m()\u001b[0m\n\u001b[1;32m      3\u001b[0m \u001b[0mend_date\u001b[0m \u001b[0;34m=\u001b[0m \u001b[0;34m'2016/05/30'\u001b[0m\u001b[0;34m\u001b[0m\u001b[0m\n\u001b[1;32m      4\u001b[0m \u001b[0;34m\u001b[0m\u001b[0m\n\u001b[0;32m----> 5\u001b[0;31m \u001b[0mprices_df\u001b[0m \u001b[0;34m=\u001b[0m \u001b[0mpickle\u001b[0m\u001b[0;34m.\u001b[0m\u001b[0mload\u001b[0m\u001b[0;34m(\u001b[0m\u001b[0mopen\u001b[0m\u001b[0;34m(\u001b[0m\u001b[0;34m'ewa_ewc_df.p'\u001b[0m\u001b[0;34m,\u001b[0m \u001b[0;34m'rb'\u001b[0m\u001b[0;34m)\u001b[0m\u001b[0;34m)\u001b[0m\u001b[0;34m\u001b[0m\u001b[0m\n\u001b[0m\u001b[1;32m      6\u001b[0m \u001b[0mprices_df\u001b[0m \u001b[0;34m=\u001b[0m \u001b[0mprices_df\u001b[0m\u001b[0;34m.\u001b[0m\u001b[0msort_values\u001b[0m\u001b[0;34m(\u001b[0m\u001b[0mby\u001b[0m\u001b[0;34m=\u001b[0m\u001b[0;34m'date'\u001b[0m\u001b[0;34m)\u001b[0m\u001b[0;34m.\u001b[0m\u001b[0mset_index\u001b[0m\u001b[0;34m(\u001b[0m\u001b[0;34m'date'\u001b[0m\u001b[0;34m)\u001b[0m\u001b[0;34m\u001b[0m\u001b[0m\n\u001b[1;32m      7\u001b[0m \u001b[0;34m\u001b[0m\u001b[0m\n",
      "\u001b[0;31mModuleNotFoundError\u001b[0m: No module named 'pandas.indexes'"
     ]
    }
   ],
   "source": [
    "# Fitting dates.\n",
    "start_date = '2016/02/01'\n",
    "end_date = '2016/05/30'\n",
    "\n",
    "prices_df = pickle.load(open('ewa_ewc_df.p', 'rb'))\n",
    "prices_df = prices_df.sort_values(by='date').set_index('date')\n",
    "\n",
    "x = prices_df.loc[start_date:end_date].as_matrix()\n",
    "x_centered = x - np.mean(x, axis=0)\n",
    "\n",
    "johansen = Johansen(x_centered, model=2, significance_level=0)\n",
    "eigenvectors, r = johansen.johansen()\n",
    "\n",
    "#print \"r values are: {}\".format(r)\n",
    "\n",
    "vec = eigenvectors[:, 0]\n",
    "vec_min = np.min(np.abs(vec))\n",
    "vec = vec / vec_min\n",
    "\n",
    "#print \"The first cointegrating relation: {}\".format(vec)"
   ]
  },
  {
   "cell_type": "code",
   "execution_count": 3,
   "metadata": {},
   "outputs": [
    {
     "ename": "NameError",
     "evalue": "name 'prices_df' is not defined",
     "output_type": "error",
     "traceback": [
      "\u001b[0;31m---------------------------------------------------------------------------\u001b[0m",
      "\u001b[0;31mNameError\u001b[0m                                 Traceback (most recent call last)",
      "\u001b[0;32m<ipython-input-3-b178843e50ee>\u001b[0m in \u001b[0;36m<module>\u001b[0;34m()\u001b[0m\n\u001b[0;32m----> 1\u001b[0;31m \u001b[0mprices_df\u001b[0m\u001b[0;34m.\u001b[0m\u001b[0mhead\u001b[0m\u001b[0;34m\u001b[0m\u001b[0m\n\u001b[0m",
      "\u001b[0;31mNameError\u001b[0m: name 'prices_df' is not defined"
     ]
    }
   ],
   "source": [
    "prices_df.head"
   ]
  },
  {
   "cell_type": "code",
   "execution_count": 4,
   "metadata": {},
   "outputs": [
    {
     "ename": "SyntaxError",
     "evalue": "invalid syntax (<ipython-input-4-d3eae63dbd30>, line 20)",
     "output_type": "error",
     "traceback": [
      "\u001b[0;36m  File \u001b[0;32m\"<ipython-input-4-d3eae63dbd30>\"\u001b[0;36m, line \u001b[0;32m20\u001b[0m\n\u001b[0;31m    print np.mean(in_sample), np.std(in_sample)\u001b[0m\n\u001b[0m           ^\u001b[0m\n\u001b[0;31mSyntaxError\u001b[0m\u001b[0;31m:\u001b[0m invalid syntax\n"
     ]
    }
   ],
   "source": [
    "# Test dates.\n",
    "start_date_test = start_date\n",
    "end_date_test = '2016/08/11'\n",
    "\n",
    "plt.title(\"Cointegrated series\")\n",
    "\n",
    "# In-sample plot.\n",
    "portfolio_insample = np.dot(x, vec)\n",
    "plt.plot(portfolio_insample, '-')\n",
    "\n",
    "# Test plot. \n",
    "x_test = prices_df.loc[start_date_test:end_date_test].as_matrix()\n",
    "portfolio_test = np.dot(x_test, vec)\n",
    "plt.plot(portfolio_test, '--')\n",
    "\n",
    "# In sample mean and std. \n",
    "in_sample = np.dot(x, vec)\n",
    "mean = np.mean(in_sample)\n",
    "std = np.std(in_sample)\n",
    "print np.mean(in_sample), np.std(in_sample)\n",
    "\n",
    "# Plot the mean and one std above and below it.\n",
    "plt.axhline(y=mean - std, color='r', ls='--', alpha=.5)\n",
    "plt.axhline(y=mean, color='r', ls='--', alpha=.5)\n",
    "plt.axhline(y=mean + std, color='r', ls='--', alpha=.5)\n",
    "\n",
    "plt.show()\n",
    "\n",
    "# Plot of original price series.\n",
    "prices_df.loc[start_date_test:end_date_test].plot(title=\"Original price series\", rot=15)"
   ]
  },
  {
   "cell_type": "code",
   "execution_count": null,
   "metadata": {
    "collapsed": true
   },
   "outputs": [],
   "source": []
  },
  {
   "cell_type": "code",
   "execution_count": null,
   "metadata": {
    "collapsed": true
   },
   "outputs": [],
   "source": []
  }
 ],
 "metadata": {
  "kernelspec": {
   "display_name": "Python 3",
   "language": "python",
   "name": "python3"
  },
  "language_info": {
   "codemirror_mode": {
    "name": "ipython",
    "version": 3
   },
   "file_extension": ".py",
   "mimetype": "text/x-python",
   "name": "python",
   "nbconvert_exporter": "python",
   "pygments_lexer": "ipython3",
   "version": "3.6.1"
  }
 },
 "nbformat": 4,
 "nbformat_minor": 1
}
