{
 "cells": [
  {
   "cell_type": "code",
   "execution_count": 57,
   "metadata": {
    "collapsed": true
   },
   "outputs": [],
   "source": [
    "import csv\n",
    "import numpy as np \n",
    "import pandas as pd\n",
    "import datetime as dt\n",
    "import matplotlib.pyplot as plt"
   ]
  },
  {
   "cell_type": "code",
   "execution_count": 58,
   "metadata": {
    "collapsed": true
   },
   "outputs": [],
   "source": [
    "df = pd.read_csv('v_ma_formatted.csv')"
   ]
  },
  {
   "cell_type": "code",
   "execution_count": 59,
   "metadata": {},
   "outputs": [
    {
     "data": {
      "text/html": [
       "<div>\n",
       "<style>\n",
       "    .dataframe thead tr:only-child th {\n",
       "        text-align: right;\n",
       "    }\n",
       "\n",
       "    .dataframe thead th {\n",
       "        text-align: left;\n",
       "    }\n",
       "\n",
       "    .dataframe tbody tr th {\n",
       "        vertical-align: top;\n",
       "    }\n",
       "</style>\n",
       "<table border=\"1\" class=\"dataframe\">\n",
       "  <thead>\n",
       "    <tr style=\"text-align: right;\">\n",
       "      <th></th>\n",
       "      <th>PERMNO</th>\n",
       "      <th>date</th>\n",
       "      <th>TICKER</th>\n",
       "      <th>PRC</th>\n",
       "      <th>ewretd</th>\n",
       "      <th>RETURNS</th>\n",
       "    </tr>\n",
       "  </thead>\n",
       "  <tbody>\n",
       "    <tr>\n",
       "      <th>0</th>\n",
       "      <td>91233</td>\n",
       "      <td>20080319</td>\n",
       "      <td>MA</td>\n",
       "      <td>208.39000</td>\n",
       "      <td>-0.017066</td>\n",
       "      <td>0.000000</td>\n",
       "    </tr>\n",
       "    <tr>\n",
       "      <th>1</th>\n",
       "      <td>91233</td>\n",
       "      <td>20080320</td>\n",
       "      <td>MA</td>\n",
       "      <td>220.38000</td>\n",
       "      <td>0.014587</td>\n",
       "      <td>0.057536</td>\n",
       "    </tr>\n",
       "    <tr>\n",
       "      <th>2</th>\n",
       "      <td>91233</td>\n",
       "      <td>20080324</td>\n",
       "      <td>MA</td>\n",
       "      <td>216.50000</td>\n",
       "      <td>0.021720</td>\n",
       "      <td>-0.017606</td>\n",
       "    </tr>\n",
       "    <tr>\n",
       "      <th>3</th>\n",
       "      <td>91233</td>\n",
       "      <td>20080325</td>\n",
       "      <td>MA</td>\n",
       "      <td>224.98000</td>\n",
       "      <td>0.010894</td>\n",
       "      <td>0.039169</td>\n",
       "    </tr>\n",
       "    <tr>\n",
       "      <th>4</th>\n",
       "      <td>91233</td>\n",
       "      <td>20080326</td>\n",
       "      <td>MA</td>\n",
       "      <td>222.85001</td>\n",
       "      <td>-0.002748</td>\n",
       "      <td>-0.009467</td>\n",
       "    </tr>\n",
       "  </tbody>\n",
       "</table>\n",
       "</div>"
      ],
      "text/plain": [
       "   PERMNO      date TICKER        PRC    ewretd   RETURNS\n",
       "0   91233  20080319     MA  208.39000 -0.017066  0.000000\n",
       "1   91233  20080320     MA  220.38000  0.014587  0.057536\n",
       "2   91233  20080324     MA  216.50000  0.021720 -0.017606\n",
       "3   91233  20080325     MA  224.98000  0.010894  0.039169\n",
       "4   91233  20080326     MA  222.85001 -0.002748 -0.009467"
      ]
     },
     "execution_count": 59,
     "metadata": {},
     "output_type": "execute_result"
    }
   ],
   "source": [
    "df.head()"
   ]
  },
  {
   "cell_type": "code",
   "execution_count": 60,
   "metadata": {},
   "outputs": [],
   "source": [
    "df_ma = df[:2214]\n",
    "df_visa = df[2214:]"
   ]
  },
  {
   "cell_type": "code",
   "execution_count": 61,
   "metadata": {},
   "outputs": [
    {
     "data": {
      "text/html": [
       "<div>\n",
       "<style>\n",
       "    .dataframe thead tr:only-child th {\n",
       "        text-align: right;\n",
       "    }\n",
       "\n",
       "    .dataframe thead th {\n",
       "        text-align: left;\n",
       "    }\n",
       "\n",
       "    .dataframe tbody tr th {\n",
       "        vertical-align: top;\n",
       "    }\n",
       "</style>\n",
       "<table border=\"1\" class=\"dataframe\">\n",
       "  <thead>\n",
       "    <tr style=\"text-align: right;\">\n",
       "      <th></th>\n",
       "      <th>PERMNO</th>\n",
       "      <th>date</th>\n",
       "      <th>TICKER</th>\n",
       "      <th>PRC</th>\n",
       "      <th>ewretd</th>\n",
       "      <th>RETURNS</th>\n",
       "    </tr>\n",
       "  </thead>\n",
       "  <tbody>\n",
       "    <tr>\n",
       "      <th>2209</th>\n",
       "      <td>91233</td>\n",
       "      <td>20161223</td>\n",
       "      <td>MA</td>\n",
       "      <td>104.71</td>\n",
       "      <td>0.004891</td>\n",
       "      <td>0.003835</td>\n",
       "    </tr>\n",
       "    <tr>\n",
       "      <th>2210</th>\n",
       "      <td>91233</td>\n",
       "      <td>20161227</td>\n",
       "      <td>MA</td>\n",
       "      <td>104.80</td>\n",
       "      <td>0.003181</td>\n",
       "      <td>0.000860</td>\n",
       "    </tr>\n",
       "    <tr>\n",
       "      <th>2211</th>\n",
       "      <td>91233</td>\n",
       "      <td>20161228</td>\n",
       "      <td>MA</td>\n",
       "      <td>103.68</td>\n",
       "      <td>-0.007221</td>\n",
       "      <td>-0.010687</td>\n",
       "    </tr>\n",
       "    <tr>\n",
       "      <th>2212</th>\n",
       "      <td>91233</td>\n",
       "      <td>20161229</td>\n",
       "      <td>MA</td>\n",
       "      <td>103.77</td>\n",
       "      <td>0.001362</td>\n",
       "      <td>0.000868</td>\n",
       "    </tr>\n",
       "    <tr>\n",
       "      <th>2213</th>\n",
       "      <td>91233</td>\n",
       "      <td>20161230</td>\n",
       "      <td>MA</td>\n",
       "      <td>103.25</td>\n",
       "      <td>-0.001826</td>\n",
       "      <td>-0.005011</td>\n",
       "    </tr>\n",
       "  </tbody>\n",
       "</table>\n",
       "</div>"
      ],
      "text/plain": [
       "      PERMNO      date TICKER     PRC    ewretd   RETURNS\n",
       "2209   91233  20161223     MA  104.71  0.004891  0.003835\n",
       "2210   91233  20161227     MA  104.80  0.003181  0.000860\n",
       "2211   91233  20161228     MA  103.68 -0.007221 -0.010687\n",
       "2212   91233  20161229     MA  103.77  0.001362  0.000868\n",
       "2213   91233  20161230     MA  103.25 -0.001826 -0.005011"
      ]
     },
     "execution_count": 61,
     "metadata": {},
     "output_type": "execute_result"
    }
   ],
   "source": [
    "df_ma.tail()"
   ]
  },
  {
   "cell_type": "code",
   "execution_count": 62,
   "metadata": {},
   "outputs": [
    {
     "data": {
      "text/html": [
       "<div>\n",
       "<style>\n",
       "    .dataframe thead tr:only-child th {\n",
       "        text-align: right;\n",
       "    }\n",
       "\n",
       "    .dataframe thead th {\n",
       "        text-align: left;\n",
       "    }\n",
       "\n",
       "    .dataframe tbody tr th {\n",
       "        vertical-align: top;\n",
       "    }\n",
       "</style>\n",
       "<table border=\"1\" class=\"dataframe\">\n",
       "  <thead>\n",
       "    <tr style=\"text-align: right;\">\n",
       "      <th></th>\n",
       "      <th>PERMNO</th>\n",
       "      <th>date</th>\n",
       "      <th>TICKER</th>\n",
       "      <th>PRC</th>\n",
       "      <th>ewretd</th>\n",
       "      <th>RETURNS</th>\n",
       "    </tr>\n",
       "  </thead>\n",
       "  <tbody>\n",
       "    <tr>\n",
       "      <th>2214</th>\n",
       "      <td>92611</td>\n",
       "      <td>20080319</td>\n",
       "      <td>V</td>\n",
       "      <td>56.50</td>\n",
       "      <td>-0.017066</td>\n",
       "      <td>0.000000</td>\n",
       "    </tr>\n",
       "    <tr>\n",
       "      <th>2215</th>\n",
       "      <td>92611</td>\n",
       "      <td>20080320</td>\n",
       "      <td>V</td>\n",
       "      <td>64.35</td>\n",
       "      <td>0.014587</td>\n",
       "      <td>0.138938</td>\n",
       "    </tr>\n",
       "    <tr>\n",
       "      <th>2216</th>\n",
       "      <td>92611</td>\n",
       "      <td>20080324</td>\n",
       "      <td>V</td>\n",
       "      <td>59.73</td>\n",
       "      <td>0.021720</td>\n",
       "      <td>-0.071795</td>\n",
       "    </tr>\n",
       "    <tr>\n",
       "      <th>2217</th>\n",
       "      <td>92611</td>\n",
       "      <td>20080325</td>\n",
       "      <td>V</td>\n",
       "      <td>63.25</td>\n",
       "      <td>0.010894</td>\n",
       "      <td>0.058932</td>\n",
       "    </tr>\n",
       "    <tr>\n",
       "      <th>2218</th>\n",
       "      <td>92611</td>\n",
       "      <td>20080326</td>\n",
       "      <td>V</td>\n",
       "      <td>63.96</td>\n",
       "      <td>-0.002748</td>\n",
       "      <td>0.011225</td>\n",
       "    </tr>\n",
       "  </tbody>\n",
       "</table>\n",
       "</div>"
      ],
      "text/plain": [
       "      PERMNO      date TICKER    PRC    ewretd   RETURNS\n",
       "2214   92611  20080319      V  56.50 -0.017066  0.000000\n",
       "2215   92611  20080320      V  64.35  0.014587  0.138938\n",
       "2216   92611  20080324      V  59.73  0.021720 -0.071795\n",
       "2217   92611  20080325      V  63.25  0.010894  0.058932\n",
       "2218   92611  20080326      V  63.96 -0.002748  0.011225"
      ]
     },
     "execution_count": 62,
     "metadata": {},
     "output_type": "execute_result"
    }
   ],
   "source": [
    "df_visa.head()"
   ]
  },
  {
   "cell_type": "code",
   "execution_count": 63,
   "metadata": {},
   "outputs": [],
   "source": [
    "df_ma_returns = df_ma[\"RETURNS\"].tolist()"
   ]
  },
  {
   "cell_type": "code",
   "execution_count": 64,
   "metadata": {},
   "outputs": [],
   "source": [
    "df_ma_date = df_ma[\"date\"].tolist()"
   ]
  },
  {
   "cell_type": "code",
   "execution_count": 65,
   "metadata": {},
   "outputs": [],
   "source": [
    "df_visa_returns = df_visa[\"RETURNS\"].tolist()"
   ]
  },
  {
   "cell_type": "code",
   "execution_count": 66,
   "metadata": {
    "collapsed": true
   },
   "outputs": [],
   "source": [
    "df_visa_date = df_visa[\"date\"].tolist()"
   ]
  },
  {
   "cell_type": "code",
   "execution_count": 67,
   "metadata": {},
   "outputs": [
    {
     "data": {
      "text/plain": [
       "2214"
      ]
     },
     "execution_count": 67,
     "metadata": {},
     "output_type": "execute_result"
    }
   ],
   "source": [
    "len(df_ma_returns)"
   ]
  },
  {
   "cell_type": "code",
   "execution_count": 70,
   "metadata": {},
   "outputs": [
    {
     "data": {
      "image/png": "[encoded data removed]",
      "text/plain": [
       "<matplotlib.figure.Figure at 0x103fa9978>"
      ]
     },
     "metadata": {},
     "output_type": "display_data"
    }
   ],
   "source": [
    "plt.plot(df_ma_date, df_ma_returns)\n",
    "plt.show()"
   ]
  },
  {
   "cell_type": "code",
   "execution_count": 72,
   "metadata": {},
   "outputs": [
    {
     "data": {
      "image/png": "[encoded data removed]",
      "text/plain": [
       "<matplotlib.figure.Figure at 0x10d716a20>"
      ]
     },
     "metadata": {},
     "output_type": "display_data"
    }
   ],
   "source": [
    "plt.plot(df_visa_date, df_visa_returns)\n",
    "plt.show()"
   ]
  },
  {
   "cell_type": "code",
   "execution_count": 73,
   "metadata": {},
   "outputs": [
    {
     "data": {
      "image/png": "[encoded data removed]",
      "text/plain": [
       "<matplotlib.figure.Figure at 0x110d21278>"
      ]
     },
     "metadata": {},
     "output_type": "display_data"
    }
   ],
   "source": [
    "fig = plt.figure(figsize=(20, 5))\n",
    "graph = fig.add_subplot(111)\n",
    "graph.plot(df_ma_date, df_ma_returns ,label='ma')\n",
    "graph.plot(df_visa_date, df_visa_returns, label='v')\n",
    "plt.legend()\n",
    "plt.show()"
   ]
  },
  {
   "cell_type": "code",
   "execution_count": null,
   "metadata": {
    "collapsed": true
   },
   "outputs": [],
   "source": []
  }
 ],
 "metadata": {
  "kernelspec": {
   "display_name": "Python 3",
   "language": "python",
   "name": "python3"
  },
  "language_info": {
   "codemirror_mode": {
    "name": "ipython",
    "version": 3
   },
   "file_extension": ".py",
   "mimetype": "text/x-python",
   "name": "python",
   "nbconvert_exporter": "python",
   "pygments_lexer": "ipython3",
   "version": "3.6.1"
  }
 },
 "nbformat": 4,
 "nbformat_minor": 2
}
